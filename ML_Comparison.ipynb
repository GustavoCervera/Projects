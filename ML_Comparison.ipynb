{
  "nbformat": 4,
  "nbformat_minor": 0,
  "metadata": {
    "colab": {
      "name": "ML_Comparison.ipynb",
      "provenance": [],
      "authorship_tag": "ABX9TyPspSG3BmpkRJnLn1PU0nVL",
      "include_colab_link": true
    },
    "kernelspec": {
      "name": "python3",
      "display_name": "Python 3"
    },
    "language_info": {
      "name": "python"
    }
  },
  "cells": [
    {
      "cell_type": "markdown",
      "metadata": {
        "id": "view-in-github",
        "colab_type": "text"
      },
      "source": [
        "<a href=\"https://colab.research.google.com/github/GustavoCervera/Projects/blob/master/ML_Comparison.ipynb\" target=\"_parent\"><img src=\"https://colab.research.google.com/assets/colab-badge.svg\" alt=\"Open In Colab\"/></a>"
      ]
    },
    {
      "cell_type": "markdown",
      "source": [
        "**NOTEBOOK PARA COMPARAÇÃO DE ALGORITMOS DE MACHINE LEARNING PARA O DATASET DE HEART 💗 DISEASE **"
      ],
      "metadata": {
        "id": "dLX5Rrzpqp7S"
      }
    },
    {
      "cell_type": "code",
      "execution_count": null,
      "metadata": {
        "id": "gjIh-cJRqhUv"
      },
      "outputs": [],
      "source": [
        "import pandas as pd\n",
        "import numpy as np\n",
        "import seaborn as sns\n",
        "\n",
        "from sklearn.model_selection import cross_val_score\n",
        "from sklearn.metrics import mean_absolute_error\n",
        "from sklearn.model_selection import train_test_split\n",
        "from sklearn.preprocessing import LabelEncoder\n",
        "from sklearn.metrics import accuracy_score\n",
        "\n",
        "from sklearn.tree import DecisionTreeClassifier\n",
        "from sklearn.ensemble import RandomForestClassifier\n",
        "from xgboost import XGBRegressor"
      ]
    },
    {
      "cell_type": "code",
      "source": [
        "heart_full = pd.read_csv(\"heart_2020_cleaned.csv\")\n",
        "cat_columns = heart_full.select_dtypes('object')\n",
        "num_columns = heart_full.select_dtypes(exclude='object')"
      ],
      "metadata": {
        "id": "ZOKREsfgdk2s"
      },
      "execution_count": null,
      "outputs": []
    },
    {
      "cell_type": "code",
      "source": [
        "le = LabelEncoder()\n",
        "for column in cat_columns:\n",
        "  cat_columns[column] = le.fit_transform(cat_columns[column])"
      ],
      "metadata": {
        "colab": {
          "base_uri": "https://localhost:8080/"
        },
        "id": "ps87bj5Qd03K",
        "outputId": "8c429084-7afb-4278-cb98-127cfbf3c4b9"
      },
      "execution_count": null,
      "outputs": [
        {
          "output_type": "stream",
          "name": "stderr",
          "text": [
            "/usr/local/lib/python3.7/dist-packages/ipykernel_launcher.py:3: SettingWithCopyWarning: \n",
            "A value is trying to be set on a copy of a slice from a DataFrame.\n",
            "Try using .loc[row_indexer,col_indexer] = value instead\n",
            "\n",
            "See the caveats in the documentation: https://pandas.pydata.org/pandas-docs/stable/user_guide/indexing.html#returning-a-view-versus-a-copy\n",
            "  This is separate from the ipykernel package so we can avoid doing imports until\n"
          ]
        }
      ]
    },
    {
      "cell_type": "code",
      "source": [
        "new_heart_full = pd.concat([cat_columns, num_columns],axis=1, join=\"inner\")\n",
        "y = new_heart_full.HeartDisease\n",
        "X = new_heart_full.drop(['HeartDisease'], axis=1)\n",
        "X_train, X_valid, y_train, y_valid = train_test_split(X, y, train_size=0.8,random_state=0)"
      ],
      "metadata": {
        "id": "GexEPJTUeuFy"
      },
      "execution_count": null,
      "outputs": []
    },
    {
      "cell_type": "markdown",
      "source": [
        "**Decision Tree**"
      ],
      "metadata": {
        "id": "hut9QF12fIIi"
      }
    },
    {
      "cell_type": "code",
      "source": [
        "model_DT = DecisionTreeClassifier()\n",
        "model_DT.fit(X_train, y_train)\n",
        "pred_DT = model_DT.predict(X_valid)\n",
        "result_DT = accuracy_score(y_valid, pred_DT)\n",
        "print(\"O modelo de DECISION TREE apresentou {}% de acurácia.\".format((result_DT*100).round(2)))\n",
        "\n",
        "best_model = {}\n",
        "best_model[\"Decision Tree\"] = (result_DT*100).round(2)"
      ],
      "metadata": {
        "colab": {
          "base_uri": "https://localhost:8080/"
        },
        "id": "4vZWl2COe0Hx",
        "outputId": "3b2df3d0-ce04-453e-8750-e56baa618b44"
      },
      "execution_count": null,
      "outputs": [
        {
          "output_type": "stream",
          "name": "stdout",
          "text": [
            "O modelo de DECISION TREE apresentou 86.33% de acurácia.\n"
          ]
        }
      ]
    },
    {
      "cell_type": "markdown",
      "source": [
        "**Random Forest**"
      ],
      "metadata": {
        "id": "UsIjat2rhQF4"
      }
    },
    {
      "cell_type": "code",
      "source": [
        "model_RF = RandomForestClassifier()\n",
        "model_RF.fit(X_train, y_train)\n",
        "pred_RF = model_RF.predict(X_valid)\n",
        "result_RF = accuracy_score(y_valid, pred_RF)\n",
        "print(\"O modelo de DECISION TREE apresentou {}% de acurácia.\".format((result_RF*100).round(2)))\n",
        "\n",
        "best_model[\"Random Forest\"] = (result_RF*100).round(2)"
      ],
      "metadata": {
        "colab": {
          "base_uri": "https://localhost:8080/"
        },
        "id": "ZdVZCsz_fr74",
        "outputId": "a1ed7735-3f9c-4c27-e676-31f525900edb"
      },
      "execution_count": null,
      "outputs": [
        {
          "output_type": "stream",
          "name": "stdout",
          "text": [
            "O modelo de DECISION TREE apresentou 90.67% de acurácia.\n"
          ]
        }
      ]
    },
    {
      "cell_type": "markdown",
      "source": [
        "**XGBoost**"
      ],
      "metadata": {
        "id": "89CyqobuiGlu"
      }
    },
    {
      "cell_type": "code",
      "source": [
        "model_XB = XGBRegressor(verbosity=0)\n",
        "model_XB.fit(X_train,y_train)\n",
        "pred_XB = model_XB.predict(X_valid)\n",
        "pred_XB = pred_XB.round()\n",
        "result_XB = accuracy_score(y_valid, pred_XB)\n",
        "print(\"O modelo de XGBOOST apresentou {}% de acurácia.\".format((result_XB*100).round(2)))\n",
        "\n",
        "best_model[\"XGBoost\"] = (result_XB*100).round(2)"
      ],
      "metadata": {
        "colab": {
          "base_uri": "https://localhost:8080/"
        },
        "id": "Mx2z4i2qh3U_",
        "outputId": "a875af95-2ff5-4fb9-8a10-a5c7d5be6916"
      },
      "execution_count": null,
      "outputs": [
        {
          "output_type": "stream",
          "name": "stdout",
          "text": [
            "O modelo de XGBOOST apresentou 91.62% de acurácia.\n"
          ]
        }
      ]
    },
    {
      "cell_type": "markdown",
      "source": [
        "**BAGGING CLASSIFIER**\n"
      ],
      "metadata": {
        "id": "71yf56BLkrlE"
      }
    },
    {
      "cell_type": "code",
      "source": [
        "from sklearn.ensemble import BaggingClassifier\n",
        "model_BC = BaggingClassifier()\n",
        "model_BC.fit(X_train,y_train)\n",
        "pred_BC = model_BC.predict(X_valid)\n",
        "result_BC = accuracy_score(y_valid, pred_BC)\n",
        "print(\"O modelo de BAGGING CLASSIFIER apresentou {}% de acurácia.\".format((result_BC*100).round(2)))\n",
        "\n",
        "best_model[\"Bagging Classifier\"] = (result_BC*100).round(2)"
      ],
      "metadata": {
        "colab": {
          "base_uri": "https://localhost:8080/"
        },
        "id": "M9tObSRwihz-",
        "outputId": "6339838f-374d-4edb-9211-b3e0e06cc1e7"
      },
      "execution_count": null,
      "outputs": [
        {
          "output_type": "stream",
          "name": "stdout",
          "text": [
            "O modelo de BAGGING CLASSIFIER apresentou 90.41% de acurácia.\n"
          ]
        }
      ]
    },
    {
      "cell_type": "markdown",
      "source": [
        "**ADA Boost**"
      ],
      "metadata": {
        "id": "9NaV9Pq1n7mM"
      }
    },
    {
      "cell_type": "code",
      "source": [
        "from sklearn.ensemble import AdaBoostClassifier\n",
        "model_AB = BaggingClassifier()\n",
        "model_AB.fit(X_train,y_train)\n",
        "pred_AB = model_AB.predict(X_valid)\n",
        "result_AB = accuracy_score(y_valid, pred_AB)\n",
        "print(\"O modelo de ADA BOOST apresentou {}% de acurácia.\".format((result_AB*100).round(2)))\n",
        "\n",
        "best_model[\"ADA Boost\"] = (result_AB*100).round(2)"
      ],
      "metadata": {
        "colab": {
          "base_uri": "https://localhost:8080/"
        },
        "id": "gioHxJXck6bU",
        "outputId": "d4f03286-af83-4ca6-80fa-26b62572fb62"
      },
      "execution_count": null,
      "outputs": [
        {
          "output_type": "stream",
          "name": "stdout",
          "text": [
            "O modelo de ADA BOOST apresentou 90.45% de acurácia.\n"
          ]
        }
      ]
    },
    {
      "cell_type": "code",
      "source": [
        "keys = list(best_model.keys())\n",
        "values = list(best_model.values())"
      ],
      "metadata": {
        "id": "5Vd0V0wjnlzb"
      },
      "execution_count": null,
      "outputs": []
    },
    {
      "cell_type": "code",
      "source": [
        "sns.lineplot(keys, values, )"
      ],
      "metadata": {
        "colab": {
          "base_uri": "https://localhost:8080/",
          "height": 337
        },
        "id": "9VFbbwRvpH0B",
        "outputId": "9c2ac9ab-2177-4eb9-96bf-b2a6b8d28a55"
      },
      "execution_count": null,
      "outputs": [
        {
          "output_type": "stream",
          "name": "stderr",
          "text": [
            "/usr/local/lib/python3.7/dist-packages/seaborn/_decorators.py:43: FutureWarning: Pass the following variables as keyword args: x, y. From version 0.12, the only valid positional argument will be `data`, and passing other arguments without an explicit keyword will result in an error or misinterpretation.\n",
            "  FutureWarning\n"
          ]
        },
        {
          "output_type": "execute_result",
          "data": {
            "text/plain": [
              "<matplotlib.axes._subplots.AxesSubplot at 0x7f2623762d50>"
            ]
          },
          "metadata": {},
          "execution_count": 61
        },
        {
          "output_type": "display_data",
          "data": {
            "text/plain": [
              "<Figure size 432x288 with 1 Axes>"
            ],
            "image/png": "[encoded data removed]"
          },
          "metadata": {
            "needs_background": "light"
          }
        }
      ]
    },
    {
      "cell_type": "code",
      "source": [
        "!pip install tensorflow"
      ],
      "metadata": {
        "id": "9UOP3nC4p0aJ",
        "colab": {
          "base_uri": "https://localhost:8080/"
        },
        "outputId": "31248f2f-4f5e-41a7-c641-d88c813ae3a4"
      },
      "execution_count": null,
      "outputs": [
        {
          "output_type": "stream",
          "name": "stdout",
          "text": [
            "Requirement already satisfied: tensorflow in /usr/local/lib/python3.7/dist-packages (2.8.0+zzzcolab20220506162203)\n",
            "Requirement already satisfied: numpy>=1.20 in /usr/local/lib/python3.7/dist-packages (from tensorflow) (1.21.6)\n",
            "Requirement already satisfied: gast>=0.2.1 in /usr/local/lib/python3.7/dist-packages (from tensorflow) (0.5.3)\n",
            "Requirement already satisfied: absl-py>=0.4.0 in /usr/local/lib/python3.7/dist-packages (from tensorflow) (1.0.0)\n",
            "Requirement already satisfied: termcolor>=1.1.0 in /usr/local/lib/python3.7/dist-packages (from tensorflow) (1.1.0)\n",
            "Requirement already satisfied: grpcio<2.0,>=1.24.3 in /usr/local/lib/python3.7/dist-packages (from tensorflow) (1.46.1)\n",
            "Requirement already satisfied: protobuf>=3.9.2 in /usr/local/lib/python3.7/dist-packages (from tensorflow) (3.17.3)\n",
            "Requirement already satisfied: setuptools in /usr/local/lib/python3.7/dist-packages (from tensorflow) (57.4.0)\n",
            "Requirement already satisfied: flatbuffers>=1.12 in /usr/local/lib/python3.7/dist-packages (from tensorflow) (2.0)\n",
            "Requirement already satisfied: keras-preprocessing>=1.1.1 in /usr/local/lib/python3.7/dist-packages (from tensorflow) (1.1.2)\n",
            "Requirement already satisfied: google-pasta>=0.1.1 in /usr/local/lib/python3.7/dist-packages (from tensorflow) (0.2.0)\n",
            "Requirement already satisfied: libclang>=9.0.1 in /usr/local/lib/python3.7/dist-packages (from tensorflow) (14.0.1)\n",
            "Requirement already satisfied: typing-extensions>=3.6.6 in /usr/local/lib/python3.7/dist-packages (from tensorflow) (4.2.0)\n",
            "Requirement already satisfied: tensorboard<2.9,>=2.8 in /usr/local/lib/python3.7/dist-packages (from tensorflow) (2.8.0)\n",
            "Requirement already satisfied: keras<2.9,>=2.8.0rc0 in /usr/local/lib/python3.7/dist-packages (from tensorflow) (2.8.0)\n",
            "Requirement already satisfied: astunparse>=1.6.0 in /usr/local/lib/python3.7/dist-packages (from tensorflow) (1.6.3)\n",
            "Requirement already satisfied: tf-estimator-nightly==2.8.0.dev2021122109 in /usr/local/lib/python3.7/dist-packages (from tensorflow) (2.8.0.dev2021122109)\n",
            "Requirement already satisfied: wrapt>=1.11.0 in /usr/local/lib/python3.7/dist-packages (from tensorflow) (1.14.1)\n",
            "Requirement already satisfied: opt-einsum>=2.3.2 in /usr/local/lib/python3.7/dist-packages (from tensorflow) (3.3.0)\n",
            "Requirement already satisfied: h5py>=2.9.0 in /usr/local/lib/python3.7/dist-packages (from tensorflow) (3.1.0)\n",
            "Requirement already satisfied: six>=1.12.0 in /usr/local/lib/python3.7/dist-packages (from tensorflow) (1.15.0)\n",
            "Requirement already satisfied: tensorflow-io-gcs-filesystem>=0.23.1 in /usr/local/lib/python3.7/dist-packages (from tensorflow) (0.25.0)\n",
            "Requirement already satisfied: wheel<1.0,>=0.23.0 in /usr/local/lib/python3.7/dist-packages (from astunparse>=1.6.0->tensorflow) (0.37.1)\n",
            "Requirement already satisfied: cached-property in /usr/local/lib/python3.7/dist-packages (from h5py>=2.9.0->tensorflow) (1.5.2)\n",
            "Requirement already satisfied: werkzeug>=0.11.15 in /usr/local/lib/python3.7/dist-packages (from tensorboard<2.9,>=2.8->tensorflow) (1.0.1)\n",
            "Requirement already satisfied: tensorboard-plugin-wit>=1.6.0 in /usr/local/lib/python3.7/dist-packages (from tensorboard<2.9,>=2.8->tensorflow) (1.8.1)\n",
            "Requirement already satisfied: google-auth<3,>=1.6.3 in /usr/local/lib/python3.7/dist-packages (from tensorboard<2.9,>=2.8->tensorflow) (1.35.0)\n",
            "Requirement already satisfied: requests<3,>=2.21.0 in /usr/local/lib/python3.7/dist-packages (from tensorboard<2.9,>=2.8->tensorflow) (2.23.0)\n",
            "Requirement already satisfied: google-auth-oauthlib<0.5,>=0.4.1 in /usr/local/lib/python3.7/dist-packages (from tensorboard<2.9,>=2.8->tensorflow) (0.4.6)\n",
            "Requirement already satisfied: markdown>=2.6.8 in /usr/local/lib/python3.7/dist-packages (from tensorboard<2.9,>=2.8->tensorflow) (3.3.7)\n",
            "Requirement already satisfied: tensorboard-data-server<0.7.0,>=0.6.0 in /usr/local/lib/python3.7/dist-packages (from tensorboard<2.9,>=2.8->tensorflow) (0.6.1)\n",
            "Requirement already satisfied: pyasn1-modules>=0.2.1 in /usr/local/lib/python3.7/dist-packages (from google-auth<3,>=1.6.3->tensorboard<2.9,>=2.8->tensorflow) (0.2.8)\n",
            "Requirement already satisfied: rsa<5,>=3.1.4 in /usr/local/lib/python3.7/dist-packages (from google-auth<3,>=1.6.3->tensorboard<2.9,>=2.8->tensorflow) (4.8)\n",
            "Requirement already satisfied: cachetools<5.0,>=2.0.0 in /usr/local/lib/python3.7/dist-packages (from google-auth<3,>=1.6.3->tensorboard<2.9,>=2.8->tensorflow) (4.2.4)\n",
            "Requirement already satisfied: requests-oauthlib>=0.7.0 in /usr/local/lib/python3.7/dist-packages (from google-auth-oauthlib<0.5,>=0.4.1->tensorboard<2.9,>=2.8->tensorflow) (1.3.1)\n",
            "Requirement already satisfied: importlib-metadata>=4.4 in /usr/local/lib/python3.7/dist-packages (from markdown>=2.6.8->tensorboard<2.9,>=2.8->tensorflow) (4.11.3)\n",
            "Requirement already satisfied: zipp>=0.5 in /usr/local/lib/python3.7/dist-packages (from importlib-metadata>=4.4->markdown>=2.6.8->tensorboard<2.9,>=2.8->tensorflow) (3.8.0)\n",
            "Requirement already satisfied: pyasn1<0.5.0,>=0.4.6 in /usr/local/lib/python3.7/dist-packages (from pyasn1-modules>=0.2.1->google-auth<3,>=1.6.3->tensorboard<2.9,>=2.8->tensorflow) (0.4.8)\n",
            "Requirement already satisfied: urllib3!=1.25.0,!=1.25.1,<1.26,>=1.21.1 in /usr/local/lib/python3.7/dist-packages (from requests<3,>=2.21.0->tensorboard<2.9,>=2.8->tensorflow) (1.24.3)\n",
            "Requirement already satisfied: chardet<4,>=3.0.2 in /usr/local/lib/python3.7/dist-packages (from requests<3,>=2.21.0->tensorboard<2.9,>=2.8->tensorflow) (3.0.4)\n",
            "Requirement already satisfied: certifi>=2017.4.17 in /usr/local/lib/python3.7/dist-packages (from requests<3,>=2.21.0->tensorboard<2.9,>=2.8->tensorflow) (2021.10.8)\n",
            "Requirement already satisfied: idna<3,>=2.5 in /usr/local/lib/python3.7/dist-packages (from requests<3,>=2.21.0->tensorboard<2.9,>=2.8->tensorflow) (2.10)\n",
            "Requirement already satisfied: oauthlib>=3.0.0 in /usr/local/lib/python3.7/dist-packages (from requests-oauthlib>=0.7.0->google-auth-oauthlib<0.5,>=0.4.1->tensorboard<2.9,>=2.8->tensorflow) (3.2.0)\n"
          ]
        }
      ]
    },
    {
      "cell_type": "markdown",
      "source": [
        "**Neural Network**"
      ],
      "metadata": {
        "id": "k7dJXHgxbSrZ"
      }
    },
    {
      "cell_type": "code",
      "source": [
        "!pip install keras"
      ],
      "metadata": {
        "colab": {
          "base_uri": "https://localhost:8080/"
        },
        "id": "F_7w5wJVS1cc",
        "outputId": "b309dcfc-462c-4551-a0ab-6126c8324420"
      },
      "execution_count": null,
      "outputs": [
        {
          "output_type": "stream",
          "name": "stdout",
          "text": [
            "Requirement already satisfied: keras in /usr/local/lib/python3.7/dist-packages (2.8.0)\n"
          ]
        }
      ]
    },
    {
      "cell_type": "code",
      "source": [
        "from tensorflow import keras\n",
        "from tensorflow.keras import layers"
      ],
      "metadata": {
        "id": "Z4CDC3wWTcZK"
      },
      "execution_count": null,
      "outputs": []
    },
    {
      "cell_type": "code",
      "source": [
        "input_shape = [X_train.shape[1]]\n",
        "print(input_shape)"
      ],
      "metadata": {
        "colab": {
          "base_uri": "https://localhost:8080/"
        },
        "id": "L_OJGe7RZSkd",
        "outputId": "fdcc7ecd-b296-43b7-ea43-33197e4bc8ec"
      },
      "execution_count": null,
      "outputs": [
        {
          "output_type": "stream",
          "name": "stdout",
          "text": [
            "[17]\n"
          ]
        }
      ]
    },
    {
      "cell_type": "code",
      "source": [
        "model = keras.Sequential([\n",
        "                          layers.BatchNormalization(input_shape=input_shape),\n",
        "                          layers.Dropout(0.3),\n",
        "                          layers.Dense(256, activation='relu'),\n",
        "                          layers.BatchNormalization(),\n",
        "                          layers.Dropout(0.3),\n",
        "                          layers.Dense(256, activation='relu'),\n",
        "                          layers.BatchNormalization(),\n",
        "                          layers.Dropout(0.3),\n",
        "                          layers.Dense(1, activation='sigmoid')\n",
        "])"
      ],
      "metadata": {
        "id": "mNnNPZMaT5a6"
      },
      "execution_count": null,
      "outputs": []
    },
    {
      "cell_type": "code",
      "source": [
        "model.compile(\n",
        "      optimizer='Adam',\n",
        "      loss='binary_crossentropy',\n",
        "      metrics=['binary_accuracy']\n",
        ")"
      ],
      "metadata": {
        "id": "SFCAv2P0T9OJ"
      },
      "execution_count": null,
      "outputs": []
    },
    {
      "cell_type": "code",
      "source": [
        "early_stopping = keras.callbacks.EarlyStopping(\n",
        "    patience=5,\n",
        "    min_delta=0.001,\n",
        "    restore_best_weights=True,\n",
        ")\n",
        "history = model.fit(\n",
        "    X_train, y_train,\n",
        "    validation_data=(X_valid, y_valid),\n",
        "    batch_size=512,\n",
        "    epochs=200,\n",
        "    callbacks=[early_stopping],\n",
        ")\n",
        "\n",
        "history_df = pd.DataFrame(history.history)\n",
        "history_df.loc[:, ['loss', 'val_loss']].plot(title=\"Cross-entropy\")\n",
        "history_df.loc[:, ['binary_accuracy', 'val_binary_accuracy']].plot(title=\"Accuracy\")"
      ],
      "metadata": {
        "colab": {
          "base_uri": "https://localhost:8080/",
          "height": 840
        },
        "id": "uRkF2MQVaBLr",
        "outputId": "8c5a095a-f4c7-45f7-a38f-4215c8775661"
      },
      "execution_count": null,
      "outputs": [
        {
          "output_type": "stream",
          "name": "stdout",
          "text": [
            "Epoch 1/200\n",
            "500/500 [==============================] - 11s 19ms/step - loss: 0.3347 - binary_accuracy: 0.8775 - val_loss: 0.2334 - val_binary_accuracy: 0.9156\n",
            "Epoch 2/200\n",
            "500/500 [==============================] - 9s 18ms/step - loss: 0.2544 - binary_accuracy: 0.9121 - val_loss: 0.2335 - val_binary_accuracy: 0.9149\n",
            "Epoch 3/200\n",
            "500/500 [==============================] - 9s 18ms/step - loss: 0.2480 - binary_accuracy: 0.9140 - val_loss: 0.2318 - val_binary_accuracy: 0.9149\n",
            "Epoch 4/200\n",
            "500/500 [==============================] - 9s 17ms/step - loss: 0.2448 - binary_accuracy: 0.9142 - val_loss: 0.2330 - val_binary_accuracy: 0.9150\n",
            "Epoch 5/200\n",
            "500/500 [==============================] - 9s 18ms/step - loss: 0.2441 - binary_accuracy: 0.9143 - val_loss: 0.2338 - val_binary_accuracy: 0.9150\n",
            "Epoch 6/200\n",
            "500/500 [==============================] - 9s 18ms/step - loss: 0.2428 - binary_accuracy: 0.9145 - val_loss: 0.2335 - val_binary_accuracy: 0.9154\n",
            "Epoch 7/200\n",
            "500/500 [==============================] - 9s 17ms/step - loss: 0.2428 - binary_accuracy: 0.9145 - val_loss: 0.2321 - val_binary_accuracy: 0.9151\n",
            "Epoch 8/200\n",
            "500/500 [==============================] - 9s 18ms/step - loss: 0.2418 - binary_accuracy: 0.9148 - val_loss: 0.2350 - val_binary_accuracy: 0.9149\n"
          ]
        },
        {
          "output_type": "execute_result",
          "data": {
            "text/plain": [
              "<matplotlib.axes._subplots.AxesSubplot at 0x7f99ec098dd0>"
            ]
          },
          "metadata": {},
          "execution_count": 26
        },
        {
          "output_type": "display_data",
          "data": {
            "text/plain": [
              "<Figure size 432x288 with 1 Axes>"
            ],
            "image/png": "[encoded data removed]"
          },
          "metadata": {
            "needs_background": "light"
          }
        },
        {
          "output_type": "display_data",
          "data": {
            "text/plain": [
              "<Figure size 432x288 with 1 Axes>"
            ],
            "image/png": "[encoded data removed]"
          },
          "metadata": {
            "needs_background": "light"
          }
        }
      ]
    },
    {
      "cell_type": "code",
      "source": [
        ""
      ],
      "metadata": {
        "id": "gXPAympGaG_e"
      },
      "execution_count": null,
      "outputs": []
    }
  ]
}