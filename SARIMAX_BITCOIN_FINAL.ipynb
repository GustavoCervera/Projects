{
  "nbformat": 4,
  "nbformat_minor": 0,
  "metadata": {
    "colab": {
      "name": "SARIMAX_BITCOIN_FINAL.ipynb",
      "provenance": [],
      "authorship_tag": "ABX9TyOOJq+0UhaUiDdO1YgRXolM",
      "include_colab_link": true
    },
    "kernelspec": {
      "name": "python3",
      "display_name": "Python 3"
    },
    "language_info": {
      "name": "python"
    }
  },
  "cells": [
    {
      "cell_type": "markdown",
      "metadata": {
        "id": "view-in-github",
        "colab_type": "text"
      },
      "source": [
        "<a href=\"https://colab.research.google.com/github/GustavoCervera/Projects/blob/master/SARIMAX_BITCOIN_FINAL.ipynb\" target=\"_parent\"><img src=\"https://colab.research.google.com/assets/colab-badge.svg\" alt=\"Open In Colab\"/></a>"
      ]
    },
    {
      "cell_type": "markdown",
      "source": [
        "Carregar as bibliotecas para serem usadas"
      ],
      "metadata": {
        "id": "LWdpNgNI-dXp"
      }
    },
    {
      "cell_type": "code",
      "execution_count": null,
      "metadata": {
        "colab": {
          "base_uri": "https://localhost:8080/"
        },
        "id": "iWdf40CX-ZJL",
        "outputId": "5e3c91dc-9961-4831-813a-ecb48b9c93e4"
      },
      "outputs": [
        {
          "output_type": "stream",
          "name": "stderr",
          "text": [
            "/usr/local/lib/python3.7/dist-packages/statsmodels/tools/_testing.py:19: FutureWarning: pandas.util.testing is deprecated. Use the functions in the public API at pandas.testing instead.\n",
            "  import pandas.util.testing as tm\n"
          ]
        }
      ],
      "source": [
        "import pandas as pd\n",
        "import numpy as np\n",
        "import matplotlib.pyplot as plt\n",
        "from statsmodels.tsa.statespace.sarimax import SARIMAX"
      ]
    },
    {
      "cell_type": "markdown",
      "source": [
        "Carregar e transformar DataFrame do Bitcoin"
      ],
      "metadata": {
        "id": "uXvmEVNL-tx5"
      }
    },
    {
      "cell_type": "code",
      "source": [
        "bitcoin_raw = pd.read_csv(\"bitcoin_daily.csv\")\n",
        "close_list = ['Date', 'Close']\n",
        "bitcoin_raw = bitcoin_raw[close_list]\n",
        "bitcoin_raw[\"Date\"] = pd.to_datetime(bitcoin_raw.Date)\n",
        "bitcoin_raw = bitcoin_raw.set_index(\"Date\")\n",
        "bitcoin_raw.head()"
      ],
      "metadata": {
        "colab": {
          "base_uri": "https://localhost:8080/",
          "height": 238
        },
        "id": "wuZgbm3e-siy",
        "outputId": "098f88ff-d03b-4ed3-d3e6-8233ea257c9e"
      },
      "execution_count": null,
      "outputs": [
        {
          "output_type": "execute_result",
          "data": {
            "text/plain": [
              "                  Close\n",
              "Date                   \n",
              "2017-06-30  2480.840088\n",
              "2017-07-01  2434.550049\n",
              "2017-07-02  2506.469971\n",
              "2017-07-03  2564.060059\n",
              "2017-07-04  2601.639893"
            ],
            "text/html": [
              "\n",
              "  <div id=\"df-00f92ec3-b49a-48ca-bf88-f9336bc33a49\">\n",
              "    <div class=\"colab-df-container\">\n",
              "      <div>\n",
              "<style scoped>\n",
              "    .dataframe tbody tr th:only-of-type {\n",
              "        vertical-align: middle;\n",
              "    }\n",
              "\n",
              "    .dataframe tbody tr th {\n",
              "        vertical-align: top;\n",
              "    }\n",
              "\n",
              "    .dataframe thead th {\n",
              "        text-align: right;\n",
              "    }\n",
              "</style>\n",
              "<table border=\"1\" class=\"dataframe\">\n",
              "  <thead>\n",
              "    <tr style=\"text-align: right;\">\n",
              "      <th></th>\n",
              "      <th>Close</th>\n",
              "    </tr>\n",
              "    <tr>\n",
              "      <th>Date</th>\n",
              "      <th></th>\n",
              "    </tr>\n",
              "  </thead>\n",
              "  <tbody>\n",
              "    <tr>\n",
              "      <th>2017-06-30</th>\n",
              "      <td>2480.840088</td>\n",
              "    </tr>\n",
              "    <tr>\n",
              "      <th>2017-07-01</th>\n",
              "      <td>2434.550049</td>\n",
              "    </tr>\n",
              "    <tr>\n",
              "      <th>2017-07-02</th>\n",
              "      <td>2506.469971</td>\n",
              "    </tr>\n",
              "    <tr>\n",
              "      <th>2017-07-03</th>\n",
              "      <td>2564.060059</td>\n",
              "    </tr>\n",
              "    <tr>\n",
              "      <th>2017-07-04</th>\n",
              "      <td>2601.639893</td>\n",
              "    </tr>\n",
              "  </tbody>\n",
              "</table>\n",
              "</div>\n",
              "      <button class=\"colab-df-convert\" onclick=\"convertToInteractive('df-00f92ec3-b49a-48ca-bf88-f9336bc33a49')\"\n",
              "              title=\"Convert this dataframe to an interactive table.\"\n",
              "              style=\"display:none;\">\n",
              "        \n",
              "  <svg xmlns=\"http://www.w3.org/2000/svg\" height=\"24px\"viewBox=\"0 0 24 24\"\n",
              "       width=\"24px\">\n",
              "    <path d=\"M0 0h24v24H0V0z\" fill=\"none\"/>\n",
              "    <path d=\"M18.56 5.44l.94 2.06.94-2.06 2.06-.94-2.06-.94-.94-2.06-.94 2.06-2.06.94zm-11 1L8.5 8.5l.94-2.06 2.06-.94-2.06-.94L8.5 2.5l-.94 2.06-2.06.94zm10 10l.94 2.06.94-2.06 2.06-.94-2.06-.94-.94-2.06-.94 2.06-2.06.94z\"/><path d=\"M17.41 7.96l-1.37-1.37c-.4-.4-.92-.59-1.43-.59-.52 0-1.04.2-1.43.59L10.3 9.45l-7.72 7.72c-.78.78-.78 2.05 0 2.83L4 21.41c.39.39.9.59 1.41.59.51 0 1.02-.2 1.41-.59l7.78-7.78 2.81-2.81c.8-.78.8-2.07 0-2.86zM5.41 20L4 18.59l7.72-7.72 1.47 1.35L5.41 20z\"/>\n",
              "  </svg>\n",
              "      </button>\n",
              "      \n",
              "  <style>\n",
              "    .colab-df-container {\n",
              "      display:flex;\n",
              "      flex-wrap:wrap;\n",
              "      gap: 12px;\n",
              "    }\n",
              "\n",
              "    .colab-df-convert {\n",
              "      background-color: #E8F0FE;\n",
              "      border: none;\n",
              "      border-radius: 50%;\n",
              "      cursor: pointer;\n",
              "      display: none;\n",
              "      fill: #1967D2;\n",
              "      height: 32px;\n",
              "      padding: 0 0 0 0;\n",
              "      width: 32px;\n",
              "    }\n",
              "\n",
              "    .colab-df-convert:hover {\n",
              "      background-color: #E2EBFA;\n",
              "      box-shadow: 0px 1px 2px rgba(60, 64, 67, 0.3), 0px 1px 3px 1px rgba(60, 64, 67, 0.15);\n",
              "      fill: #174EA6;\n",
              "    }\n",
              "\n",
              "    [theme=dark] .colab-df-convert {\n",
              "      background-color: #3B4455;\n",
              "      fill: #D2E3FC;\n",
              "    }\n",
              "\n",
              "    [theme=dark] .colab-df-convert:hover {\n",
              "      background-color: #434B5C;\n",
              "      box-shadow: 0px 1px 3px 1px rgba(0, 0, 0, 0.15);\n",
              "      filter: drop-shadow(0px 1px 2px rgba(0, 0, 0, 0.3));\n",
              "      fill: #FFFFFF;\n",
              "    }\n",
              "  </style>\n",
              "\n",
              "      <script>\n",
              "        const buttonEl =\n",
              "          document.querySelector('#df-00f92ec3-b49a-48ca-bf88-f9336bc33a49 button.colab-df-convert');\n",
              "        buttonEl.style.display =\n",
              "          google.colab.kernel.accessAllowed ? 'block' : 'none';\n",
              "\n",
              "        async function convertToInteractive(key) {\n",
              "          const element = document.querySelector('#df-00f92ec3-b49a-48ca-bf88-f9336bc33a49');\n",
              "          const dataTable =\n",
              "            await google.colab.kernel.invokeFunction('convertToInteractive',\n",
              "                                                     [key], {});\n",
              "          if (!dataTable) return;\n",
              "\n",
              "          const docLinkHtml = 'Like what you see? Visit the ' +\n",
              "            '<a target=\"_blank\" href=https://colab.research.google.com/notebooks/data_table.ipynb>data table notebook</a>'\n",
              "            + ' to learn more about interactive tables.';\n",
              "          element.innerHTML = '';\n",
              "          dataTable['output_type'] = 'display_data';\n",
              "          await google.colab.output.renderOutput(dataTable, element);\n",
              "          const docLink = document.createElement('div');\n",
              "          docLink.innerHTML = docLinkHtml;\n",
              "          element.appendChild(docLink);\n",
              "        }\n",
              "      </script>\n",
              "    </div>\n",
              "  </div>\n",
              "  "
            ]
          },
          "metadata": {},
          "execution_count": 2
        }
      ]
    },
    {
      "cell_type": "markdown",
      "source": [
        "Dividir o DataFrame entre Treino e Teste"
      ],
      "metadata": {
        "id": "hs4Q0PjI-_vh"
      }
    },
    {
      "cell_type": "code",
      "source": [
        "train_step = int(len(bitcoin_raw)*0.95)\n",
        "train = list(bitcoin_raw[:train_step][\"Close\"]) # Transformando em lista, para ficar mais fácil de fazer o append futuramente\n",
        "test = list(bitcoin_raw[train_step:][\"Close\"])  # Transformando em lista, para ficar mais fácil de fazer o append futuramente"
      ],
      "metadata": {
        "id": "FILhsMZI-7l6"
      },
      "execution_count": null,
      "outputs": []
    },
    {
      "cell_type": "markdown",
      "source": [
        "Gerar as previsões dos valores do bitcoin e jogá-las em uma lista chamada 'model_prediction', depois adicionar no conjunto de treino o próximo valor de teste"
      ],
      "metadata": {
        "id": "vorGia1M_Tmw"
      }
    },
    {
      "cell_type": "code",
      "source": [
        "model_predictions=[]\n",
        "for i in range(len(test)):\n",
        "    model = SARIMAX(train,order=(1,1,0),seasonal_order=(3, 1, 0, 7))\n",
        "    model_fit = model.fit()\n",
        "    output = model_fit.forecast()\n",
        "    yhat=output[0]\n",
        "    model_predictions.append(yhat)\n",
        "    actual_test_value=test[i]\n",
        "    train.append(actual_test_value)"
      ],
      "metadata": {
        "id": "RqHTGkOC_Svz"
      },
      "execution_count": null,
      "outputs": []
    },
    {
      "cell_type": "markdown",
      "source": [
        "Mostrar informações sobre o modelo treinado"
      ],
      "metadata": {
        "id": "QU3AR_Kp_rTJ"
      }
    },
    {
      "cell_type": "code",
      "source": [
        "model_fit.summary()"
      ],
      "metadata": {
        "colab": {
          "base_uri": "https://localhost:8080/",
          "height": 840
        },
        "id": "6fU6gMrv_pER",
        "outputId": "31f12959-3896-4a50-a183-cbd5384b77ee"
      },
      "execution_count": null,
      "outputs": [
        {
          "output_type": "execute_result",
          "data": {
            "text/plain": [
              "<class 'statsmodels.iolib.summary.Summary'>\n",
              "\"\"\"\n",
              "                                 Statespace Model Results                                \n",
              "=========================================================================================\n",
              "Dep. Variable:                                 y   No. Observations:                 1827\n",
              "Model:             SARIMAX(1, 1, 0)x(3, 1, 0, 7)   Log Likelihood              -15351.457\n",
              "Date:                           Thu, 30 Jun 2022   AIC                          30712.915\n",
              "Time:                                   14:47:35   BIC                          30740.445\n",
              "Sample:                                        0   HQIC                         30723.072\n",
              "                                          - 1827                                         \n",
              "Covariance Type:                             opg                                         \n",
              "==============================================================================\n",
              "                 coef    std err          z      P>|z|      [0.025      0.975]\n",
              "------------------------------------------------------------------------------\n",
              "ar.L1         -0.0407      0.014     -2.833      0.005      -0.069      -0.013\n",
              "ar.S.L7       -0.7971      0.012    -69.008      0.000      -0.820      -0.775\n",
              "ar.S.L14      -0.5476      0.012    -45.249      0.000      -0.571      -0.524\n",
              "ar.S.L21      -0.3047      0.012    -25.264      0.000      -0.328      -0.281\n",
              "sigma2      1.251e+06   1.79e+04     70.060      0.000    1.22e+06    1.29e+06\n",
              "===================================================================================\n",
              "Ljung-Box (Q):                      267.78   Jarque-Bera (JB):              6290.94\n",
              "Prob(Q):                              0.00   Prob(JB):                         0.00\n",
              "Heteroskedasticity (H):              13.82   Skew:                            -0.19\n",
              "Prob(H) (two-sided):                  0.00   Kurtosis:                        12.10\n",
              "===================================================================================\n",
              "\n",
              "Warnings:\n",
              "[1] Covariance matrix calculated using the outer product of gradients (complex-step).\n",
              "\"\"\""
            ],
            "text/html": [
              "<table class=\"simpletable\">\n",
              "<caption>Statespace Model Results</caption>\n",
              "<tr>\n",
              "  <th>Dep. Variable:</th>                 <td>y</td>               <th>  No. Observations:  </th>    <td>1827</td>   \n",
              "</tr>\n",
              "<tr>\n",
              "  <th>Model:</th>           <td>SARIMAX(1, 1, 0)x(3, 1, 0, 7)</td> <th>  Log Likelihood     </th> <td>-15351.457</td>\n",
              "</tr>\n",
              "<tr>\n",
              "  <th>Date:</th>                  <td>Thu, 30 Jun 2022</td>        <th>  AIC                </th>  <td>30712.915</td>\n",
              "</tr>\n",
              "<tr>\n",
              "  <th>Time:</th>                      <td>14:47:35</td>            <th>  BIC                </th>  <td>30740.445</td>\n",
              "</tr>\n",
              "<tr>\n",
              "  <th>Sample:</th>                        <td>0</td>               <th>  HQIC               </th>  <td>30723.072</td>\n",
              "</tr>\n",
              "<tr>\n",
              "  <th></th>                            <td> - 1827</td>            <th>                     </th>      <td> </td>    \n",
              "</tr>\n",
              "<tr>\n",
              "  <th>Covariance Type:</th>              <td>opg</td>              <th>                     </th>      <td> </td>    \n",
              "</tr>\n",
              "</table>\n",
              "<table class=\"simpletable\">\n",
              "<tr>\n",
              "      <td></td>        <th>coef</th>     <th>std err</th>      <th>z</th>      <th>P>|z|</th>  <th>[0.025</th>    <th>0.975]</th>  \n",
              "</tr>\n",
              "<tr>\n",
              "  <th>ar.L1</th>    <td>   -0.0407</td> <td>    0.014</td> <td>   -2.833</td> <td> 0.005</td> <td>   -0.069</td> <td>   -0.013</td>\n",
              "</tr>\n",
              "<tr>\n",
              "  <th>ar.S.L7</th>  <td>   -0.7971</td> <td>    0.012</td> <td>  -69.008</td> <td> 0.000</td> <td>   -0.820</td> <td>   -0.775</td>\n",
              "</tr>\n",
              "<tr>\n",
              "  <th>ar.S.L14</th> <td>   -0.5476</td> <td>    0.012</td> <td>  -45.249</td> <td> 0.000</td> <td>   -0.571</td> <td>   -0.524</td>\n",
              "</tr>\n",
              "<tr>\n",
              "  <th>ar.S.L21</th> <td>   -0.3047</td> <td>    0.012</td> <td>  -25.264</td> <td> 0.000</td> <td>   -0.328</td> <td>   -0.281</td>\n",
              "</tr>\n",
              "<tr>\n",
              "  <th>sigma2</th>   <td> 1.251e+06</td> <td> 1.79e+04</td> <td>   70.060</td> <td> 0.000</td> <td> 1.22e+06</td> <td> 1.29e+06</td>\n",
              "</tr>\n",
              "</table>\n",
              "<table class=\"simpletable\">\n",
              "<tr>\n",
              "  <th>Ljung-Box (Q):</th>          <td>267.78</td> <th>  Jarque-Bera (JB):  </th> <td>6290.94</td>\n",
              "</tr>\n",
              "<tr>\n",
              "  <th>Prob(Q):</th>                 <td>0.00</td>  <th>  Prob(JB):          </th>  <td>0.00</td>  \n",
              "</tr>\n",
              "<tr>\n",
              "  <th>Heteroskedasticity (H):</th>  <td>13.82</td> <th>  Skew:              </th>  <td>-0.19</td> \n",
              "</tr>\n",
              "<tr>\n",
              "  <th>Prob(H) (two-sided):</th>     <td>0.00</td>  <th>  Kurtosis:          </th>  <td>12.10</td> \n",
              "</tr>\n",
              "</table><br/><br/>Warnings:<br/>[1] Covariance matrix calculated using the outer product of gradients (complex-step)."
            ]
          },
          "metadata": {},
          "execution_count": 8
        }
      ]
    },
    {
      "cell_type": "markdown",
      "source": [
        "Plotar os valores previstos vs os valores reais do bitcoin"
      ],
      "metadata": {
        "id": "nvytX25D_2Gi"
      }
    },
    {
      "cell_type": "code",
      "source": [
        "plt.figure(figsize=(16,9))\n",
        "plt.grid(True)\n",
        "plt.plot(bitcoin_raw[train_step:].index, model_predictions, color='green', marker='o', linestyle='dashed', label=\"BTC Predicted\")\n",
        "plt.plot(bitcoin_raw[train_step:].index, test, color='red', label=\"Real Bitcoin Value\")\n",
        "plt.legend(loc=\"upper right\")"
      ],
      "metadata": {
        "colab": {
          "base_uri": "https://localhost:8080/",
          "height": 106
        },
        "id": "W3mCjS9N_7e5",
        "outputId": "32437015-4df7-40a2-ca60-7b661ca79865"
      },
      "execution_count": null,
      "outputs": [
        {
          "output_type": "execute_result",
          "data": {
            "text/plain": [
              "<matplotlib.legend.Legend at 0x7fc4aa926e10>"
            ]
          },
          "metadata": {},
          "execution_count": 9
        },
        {
          "output_type": "display_data",
          "data": {
            "text/plain": [
              "<Figure size 1152x648 with 1 Axes>"
            ],
            "image/png": "[encoded data removed]"
          },
          "metadata": {
            "needs_background": "light"
          }
        }
      ]
    },
    {
      "cell_type": "code",
      "source": [
        ""
      ],
      "metadata": {
        "id": "QAcZ9DoJ__OZ"
      },
      "execution_count": null,
      "outputs": []
    }
  ]
}